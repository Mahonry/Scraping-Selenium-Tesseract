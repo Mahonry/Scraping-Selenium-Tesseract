{
 "cells": [
  {
   "cell_type": "code",
   "execution_count": 25,
   "metadata": {},
   "outputs": [],
   "source": [
    "import requests\n",
    "from bs4 import BeautifulSoup\n",
    "import pandas as pd"
   ]
  },
  {
   "cell_type": "code",
   "execution_count": 26,
   "metadata": {},
   "outputs": [],
   "source": [
    "url = 'https://mobility.ado.com.mx/viajes/terminal-puebla-capu-a-terminal-xalapa-caxa/?fechaIda=11/04/2020&type=0'"
   ]
  },
  {
   "cell_type": "code",
   "execution_count": 27,
   "metadata": {},
   "outputs": [],
   "source": [
    "r = requests.get(url)"
   ]
  },
  {
   "cell_type": "code",
   "execution_count": 28,
   "metadata": {},
   "outputs": [
    {
     "data": {
      "text/plain": [
       "200"
      ]
     },
     "execution_count": 28,
     "metadata": {},
     "output_type": "execute_result"
    }
   ],
   "source": [
    "r.status_code"
   ]
  },
  {
   "cell_type": "code",
   "execution_count": 29,
   "metadata": {},
   "outputs": [],
   "source": [
    "soup = BeautifulSoup(r.text , 'lxml')"
   ]
  },
  {
   "cell_type": "code",
   "execution_count": 30,
   "metadata": {},
   "outputs": [
    {
     "name": "stdout",
     "output_type": "stream",
     "text": [
      "<!DOCTYPE html>\n",
      "<html data-bind=\"setContextVariable:{name:'masterViewModel', value:$data}\" dir=\"ltr\" id=\"oracle-cc\" lang=\"es\">\n",
      " <head>\n",
      "  <meta content=\"text/html; charset=utf-8\" http-equiv=\"Content-Type\"/>\n",
      "  <meta charset=\"utf-8\"/>\n",
      "  <script type=\"text/javascript\">\n",
      "   window.isPreviewMode = false ;\n",
      "    if (window.isPreviewMode === false ){\n",
      "      var bActiveX;\n",
      "      try {\n",
      "        new ActiveXObject('Microsoft.XMLHTTP');\n",
      "        bActiveX = true;\n",
      "      }\n",
      "      catch(e) { bActiveX = false; }\n",
      "      if (window.XMLHttpRequest || bActiveX) {\n",
      "        var xhttp = window.XMLHttpRequest ? new XMLHttpRequest() : new ActiveXObject('Microsoft.XMLHTTP');\n",
      "        xhttp.onreadystatechange = function() {\n",
      "          if (this.readyState == 4 && this.status == 200) {\n",
      "            window.endpointRegistry = xhttp.response ;\n",
      "          }\n",
      "        };\n",
      "        xhttp.open(\"GET\", \"/ccstoreui/v1/registry\", true);\n",
      "        xhttp.responseType = 'json';\n",
      "        xhttp.setRequestHeader(\"X-CCProfileType\", \"storefrontUI\");\n",
      "        xhttp.send();\n",
      "      }\n",
      "    }\n",
      "  </script>\n",
      "  <link href=\"/file/v5423298339966190142/general/favicon50x50.png\" rel=\"icon\"/>\n",
      "  <style id=\"antiClickjack\">\n",
      "   body{display:none !important;}\n",
      "  </style>\n",
      "  <script type=\"text/javascript\">\n",
      "   if (self === top) {\n",
      "      var antiClickjack = document.getElementById(\"antiClickjack\");\n",
      "      antiClickjack.parentNode.removeChild(antiClickjack);\n",
      "    } else {\n",
      "      top.location = self.location;\n",
      "    }\n",
      "  </script>\n",
      "  <script type=\"text/javascript\">\n",
      "   window.urlLocale = '';\n",
      "  </script>\n",
      "  <script type=\"text/javascript\">\n",
      "   window.siteBaseURLPath = '/';\n",
      "    window.applicationContextPath =  '';\n",
      "    window.siteId = 'siteUS';\n",
      "    window.siteIdOnURL = '';\n",
      "    window.clientConfigData = {\n",
      "                                'loadOjDependentBindings': 'true' ,\n",
      "                               \n",
      "                                'delayBeforeLoadingOutOfFocusImages': '-1' ,\n",
      "                               \n",
      "                                'includeOrderDetailsInShippingMethodsPayload': 'false' ,\n",
      "                               \n",
      "                                'loadImagesLazily': 'false' ,\n",
      "                               \n",
      "                                'skipLoadingProductTypes': 'false' ,\n",
      "                               \n",
      "                                'prioritizedLoading': 'false' ,\n",
      "                               \n",
      "                                'useEnhancedSearch': 'false' \n",
      "                                };\n",
      "  </script>\n",
      "  <script type=\"text/javascript\">\n",
      "   window.externalServiceData = { social: { scheme: 'https', host: 'ccsocial.oracleoutsourcing.com', port: '443' } };\n",
      "  </script>\n",
      "  <script type=\"text/javascript\">\n",
      "   window.visitorId = '';\n",
      "    window.visitId = '';\n",
      "  </script>\n",
      "  <title data-bind=\"text: $data.title\">\n",
      "  </title>\n",
      "  <!-- ko noIndexMeta: noindex() -->\n",
      "  <!-- /ko -->\n",
      "  <!-- ko if: $data.description -->\n",
      "  <meta content=\"\" data-bind=\"attr: { content: $data.description }\" name=\"description\"/>\n",
      "  <!-- /ko -->\n",
      "  <!-- ko if: ((typeof($data.keywords) === \"function\") && ($data.keywords() && $data.keywords().length > 0)) -->\n",
      "  <meta content=\"\" data-bind=\"attr: { content: $data.keywords }\" name=\"keywords\"/>\n",
      "  <!-- /ko -->\n",
      "  <!-- ko foreach: $data.metaTags -->\n",
      "  <meta data-bind=\"attr: $data\"/>\n",
      "  <!-- /ko -->\n",
      "  <meta content=\"width=device-width, initial-scale=1.0\" name=\"viewport\"/>\n",
      "  <link href=\"/css/style.css?bust=20.1.4\" rel=\"stylesheet\" type=\"text/css\"/>\n",
      "  <link href=\"https://mobility.ado.com.mx/file/v8251727049429992714/css/base.css?occsite=siteUS\" rel=\"stylesheet\" type=\"text/css\"/>\n",
      "  <link href=\"https://mobility.ado.com.mx/file/v377120732786334646/css/common.css?occsite=siteUS\" rel=\"stylesheet\" type=\"text/css\"/>\n",
      "  <!--[if lte IE 9]>\n",
      "    <link href=\"/css/storefront-ie.css?bust=20.1.4\" rel=\"stylesheet\" type=\"text/css\"/>\n",
      "\n",
      "    <![endif]-->\n",
      "  <link href=\"https://mobility.ado.com.mx/viajes\" rel=\"canonical\"/>\n",
      "  <!-- ko if: $data.prevPageNo -->\n",
      "  <link data-bind=\"attr: { href: $data.canonicalRoute() + $data.prevPageNo() }\" rel=\"prev\"/>\n",
      "  <!-- /ko -->\n",
      "  <!-- ko if: $data.nextPageNo -->\n",
      "  <link data-bind=\"attr: { href: $data.canonicalRoute() + $data.nextPageNo() }\" rel=\"next\"/>\n",
      "  <!-- /ko -->\n",
      "  <!-- ko foreach: $data.alternates -->\n",
      "  <link data-bind=\"attr: { href: $data.href + $parent.currPageNo(), hreflang: $parent.formatHreflang($data.hrefLang) }\" rel=\"alternate\"/>\n",
      "  <!-- /ko -->\n",
      "  <!-- /ko -->\n",
      "  <script type=\"text/javascript\">\n",
      "   function getSamlResponse() {\n",
      "        return \"\";\n",
      "      }\n",
      "  </script>\n",
      "  <script type=\"text/javascript\">\n",
      "   function getAgentAuthToken() {\n",
      "        return \"\";\n",
      "     }\n",
      "  </script>\n",
      "  <script type=\"text/javascript\">\n",
      "   function getAgentRedirectUrl() {\n",
      "        return \"\";\n",
      "     }\n",
      "  </script>\n",
      "  <script type=\"text/javascript\">\n",
      "   function getRelayState() {\n",
      "          return \"\";\n",
      "        }\n",
      "  </script>\n",
      "  <script type=\"text/javascript\">\n",
      "   function getOAuthToken() {\n",
      "        return \"\";\n",
      "     }\n",
      "      function getAdditionalFormData() {\n",
      "        var additionalFormDataJson = {\n",
      "          \n",
      "        };\n",
      "        return additionalFormDataJson;\n",
      "     }\n",
      "  </script>\n",
      " </head>\n",
      " <body>\n",
      "  <noscript>\n",
      "  </noscript>\n",
      "  <!-- ko agentBar: isObo() -->\n",
      "  <!-- /ko -->\n",
      "  <div aria-atomic=\"true\" aria-live=\"polite\" class=\"sr-only\" data-bind=\"text: pageChangeMessage\" id=\"alert-page-change\" role=\"alert\">\n",
      "  </div>\n",
      "  <div aria-atomic=\"true\" aria-live=\"polite\" class=\"sr-only\" id=\"alert-modal-change\" role=\"alert\">\n",
      "  </div>\n",
      "  <div data-bind=\"css:{'container': containPage}\" id=\"page\">\n",
      "   <header class=\"page-row\" id=\"headerBar\">\n",
      "    <div data-bind=\"css:{'container': containHeader}\">\n",
      "     <!-- ko foreach: headerRows -->\n",
      "     <div class=\"row\">\n",
      "      <div class=\"redBox\" data-bind=\"template: { name: 'region-template', foreach: regions }\">\n",
      "      </div>\n",
      "     </div>\n",
      "     <!-- /ko -->\n",
      "    </div>\n",
      "   </header>\n",
      "   <main class=\"page-row page-row-expanded\">\n",
      "    <div data-bind=\"css:{'container': containMain}\" id=\"main\">\n",
      "     <!-- ko foreach: bodyRows -->\n",
      "     <div class=\"row\">\n",
      "      <div class=\"redBox\" data-bind=\"template: { name: 'region-template', foreach: regions }\">\n",
      "      </div>\n",
      "     </div>\n",
      "     <!-- /ko -->\n",
      "    </div>\n",
      "    <div class=\"hide loadingIndicator\" id=\"loadingModal\">\n",
      "    </div>\n",
      "   </main>\n",
      "   <footer class=\"page-row\" id=\"footerBar\">\n",
      "    <div data-bind=\"css:{'container': containFooter}\">\n",
      "     <!-- ko foreach: footerRows -->\n",
      "     <div class=\"row\">\n",
      "      <div class=\"redBox\" data-bind=\"template: { name: 'region-template', foreach: regions }\">\n",
      "      </div>\n",
      "     </div>\n",
      "     <!-- /ko -->\n",
      "    </div>\n",
      "   </footer>\n",
      "  </div>\n",
      "  <script id=\"region-template\" type=\"text/html\">\n",
      "   <!-- ko if: $data.hasOwnProperty('structure') && $data.structure() == 101 -->\n",
      "  <div  data-bind=\"css: widthClass, attr: {id: 'region-'+name()}\">\n",
      "    <div data-bind=\"template: { name: 'stack-template' }\"></div>\n",
      "  </div>\n",
      "  <!-- /ko -->\n",
      "  <!-- ko ifnot: $data.hasOwnProperty('structure') && $data.structure() == 101 -->\n",
      "  <!-- ko if: $data.widgets() && $data.widgets().length && !$data.globalWidgetsOnly() -->\n",
      "  <div  data-bind=\"css: widthClass, attr: {id: 'region-'+name()}\">\n",
      "    <!-- ko foreach: $data.widgets  -->\n",
      "    <!-- ko ifnot: global  -->\n",
      "    <!-- ko if: initialized  -->\n",
      "    <!-- ko if: $data.elementsSrc -->\n",
      "    <!-- ko addTemplate: elementsSrc() --><!-- /ko -->\n",
      "    <!-- /ko -->\n",
      "    <!-- ko if: isPreview -->\n",
      "    <div class=\"sf-display-error\">\n",
      "      <span class=\"sf-error-title\" data-bind=\"text: $root.displayErrorMessage\"></span>:\n",
      "      <span class=\"sf-error-msg\"></span>\n",
      "    </div>\n",
      "    <!-- /ko -->\n",
      "    <!-- ko ifnot: $data.templateSrc -->\n",
      "    <!-- ko if: templateUrl() -->\n",
      "    <div data-bind='template: {name: templateUrl(), templateUrl: \"\"}, attr: {id: typeId()+\"-\"+id()}, visible:($masterViewModel.storeConfiguration.enablePrioritizedLoading) ? (occPrioritizedDisplay ? occPrioritizedDisplay : true):true' ></div>\n",
      "    <!-- /ko -->\n",
      "    <!-- /ko -->\n",
      "    <!-- ko if: $data.templateSrc -->\n",
      "    <div data-bind='template: {name: templateUrl(),templateSrc: templateSrc()}, attr: {id: typeId()+\"-\"+id()}, visible:($masterViewModel.storeConfiguration.enablePrioritizedLoading) ? (occPrioritizedDisplay ? occPrioritizedDisplay : true):true' ></div>\n",
      "    <!-- /ko -->\n",
      "    <!-- /ko -->\n",
      "    <!-- /ko -->\n",
      "    <!-- /ko -->\n",
      "  </div>\n",
      "  <!-- /ko -->\n",
      "  <!-- /ko -->\n",
      "  </script>\n",
      "  <script id=\"stack-template\" type=\"text/html\">\n",
      "   <!-- ko if: $masterViewModel.isPreview -->\n",
      "  <div class=\"sf-display-error\">\n",
      "    <span class=\"sf-error-title\" data-bind=\"text: $root.displayErrorMessage\"></span>:\n",
      "    <span class=\"sf-error-msg\"></span>\n",
      "  </div>\n",
      "  <!-- /ko -->\n",
      "  <!-- ko ifnot: templateSrc -->\n",
      "  <!-- ko if: templatePath() -->\n",
      "  <div data-bind='template: {name: templatePath(), templateUrl: \"\"}, attr: {id: stackType()+\"-\"+id()}'\n",
      "       class=\"stack-template \"></div>\n",
      "  <!-- /ko -->\n",
      "  <!-- /ko -->\n",
      "  <!-- ko if: templateSrc -->\n",
      "  <div data-bind='template: {name: name(), templateSrc: templateSrc()}, attr: {id: stackType()+\"-\"+id()}'\n",
      "       class=\"stack-template \"></div>\n",
      "  <!-- /ko -->\n",
      "  </script>\n",
      "  <!-- this template is loaded on site load and is available then onwards even if internet connection has some issue -->\n",
      "  <script id=\"notificationsNetworkError\" type=\"text/html\">\n",
      "   <span data-bind=\"text: networkErrorMessage\"></span>\n",
      "  <u><a data-bind=\"text: networkErrorReloadText\" href=\"javascript:location.reload(true);\"></a></u>\n",
      "  </script>\n",
      "  <script type=\"text/javascript\">\n",
      "   window.storeLibsPath= 'https://mobility.ado.com.mx/file/v3766746859409485417/storeJS/20.1.4/store-libs.js';\n",
      "    window.ccKoOjExtensionsPath= 'https://mobility.ado.com.mx/file/v2688663483985954310/storeJS/20.1.4/cc-ko-oj-extensions.js';\n",
      "  </script>\n",
      "  <script type=\"text/javascript\">\n",
      "   var require = {\n",
      " \"config\": {\n",
      "  \"ccNavState\": {\n",
      "   \"pageContext\": \"terminal-puebla-capu-a-terminal-xalapa-caxa\",\n",
      "   \"pageNumber\": \"0\",\n",
      "   \"pageid\": \"viajes\",\n",
      "   \"referrer\": \"/\",\n",
      "   \"slug\": null,\n",
      "   \"statusCode\": \"200\"\n",
      "  },\n",
      "  \"ccResourceLoader\": {\"jsUrls\": [\n",
      "   \"/file/v377120732786334646/global/af.min.js?bust=LTM3NzEyMDczMjc4NjMzNDY0Ng==\",\n",
      "   \"/file/v2541785680911682751/global/bundle.main.min.js?bust=LTI1NDE3ODU2ODA5MTE2ODI3NTE=\",\n",
      "   \"/file/v4533886845436808495/global/dyna.min.js?bust=NDUzMzg4Njg0NTQzNjgwODQ5NQ==\",\n",
      "   \"/file/v3602854174982323430/global/ko-custom-bindings.min.js?bust=MzYwMjg1NDE3NDk4MjMyMzQzMA==\",\n",
      "   \"/file/v4226118421413462154/global/slick.min.js?bust=NDIyNjExODQyMTQxMzQ2MjE1NA==\"\n",
      "  ]},\n",
      "  \"pageLayout/css-loader\": {\"optimizingCSS\": true}\n",
      " },\n",
      " \"urlArgs\": \"bust=20.1.4\",\n",
      " \"waitSeconds\": 45\n",
      "};\n",
      "  </script>\n",
      "  <script src=\"https://mobility.ado.com.mx/file/v6024536450818749285/storeJS/20.1.4/require.js?bust=20.1.4\">\n",
      "  </script>\n",
      "  <script src=\"https://mobility.ado.com.mx/file/v8938404141912299032/storeJS/20.1.4/main.js?bust=20.1.4\">\n",
      "  </script>\n",
      "  <script src=\"https://mobility.ado.com.mx/file/v3766746859409485417/storeJS/20.1.4/store-libs.js?bust=20.1.4\">\n",
      "  </script>\n",
      "  <script src=\"https://mobility.ado.com.mx/file/v2688663483985954310/storeJS/20.1.4/cc-ko-oj-extensions.js?bust=20.1.4\">\n",
      "  </script>\n",
      " </body>\n",
      "</html>\n",
      "\n"
     ]
    }
   ],
   "source": [
    "print(soup.prettify())"
   ]
  },
  {
   "cell_type": "markdown",
   "metadata": {},
   "source": [
    "# Selenium\n",
    "\n",
    "Selenium es una herramienta que nos permitirá controlar un navegador y podremos utilizar las funcionalidades del motor de JavaScript para cargar el contenido que no viene en el HTML de la página. Para eso necesitamos el módulo de Webdriver"
   ]
  },
  {
   "cell_type": "code",
   "execution_count": 31,
   "metadata": {},
   "outputs": [],
   "source": [
    "from selenium import webdriver"
   ]
  },
  {
   "cell_type": "markdown",
   "metadata": {},
   "source": [
    "Paso 1: instanciar un driver del navegador"
   ]
  },
  {
   "cell_type": "code",
   "execution_count": 32,
   "metadata": {},
   "outputs": [],
   "source": [
    "options = webdriver.ChromeOptions()\n",
    "options.add_argument('--incognito')\n",
    "driver = webdriver.Chrome(executable_path = './chromedriver.exe', options = options)"
   ]
  },
  {
   "cell_type": "markdown",
   "metadata": {},
   "source": [
    "Paso 2: Hacer que el navegador cargue la página web."
   ]
  },
  {
   "cell_type": "code",
   "execution_count": 33,
   "metadata": {},
   "outputs": [],
   "source": [
    "driver.get(url)"
   ]
  },
  {
   "cell_type": "markdown",
   "metadata": {},
   "source": [
    "Paso 3: Extraer la información de la página"
   ]
  },
  {
   "cell_type": "code",
   "execution_count": 38,
   "metadata": {},
   "outputs": [
    {
     "data": {
      "text/plain": [
       "[<selenium.webdriver.remote.webelement.WebElement (session=\"89c5cf85d97f29c0f5d00a7757a1d26e\", element=\"6b8a5131-9516-454b-b222-3250773605b3\")>,\n",
       " <selenium.webdriver.remote.webelement.WebElement (session=\"89c5cf85d97f29c0f5d00a7757a1d26e\", element=\"d0ab5e3f-ac3e-4d10-a925-55c33a404a07\")>,\n",
       " <selenium.webdriver.remote.webelement.WebElement (session=\"89c5cf85d97f29c0f5d00a7757a1d26e\", element=\"706d7393-7ff9-4106-a65a-39af809411fd\")>,\n",
       " <selenium.webdriver.remote.webelement.WebElement (session=\"89c5cf85d97f29c0f5d00a7757a1d26e\", element=\"cae1c200-7c39-4aa1-8298-9f0b1b1c044a\")>,\n",
       " <selenium.webdriver.remote.webelement.WebElement (session=\"89c5cf85d97f29c0f5d00a7757a1d26e\", element=\"98982c7e-d2c9-4f63-8ea6-e2f459197138\")>,\n",
       " <selenium.webdriver.remote.webelement.WebElement (session=\"89c5cf85d97f29c0f5d00a7757a1d26e\", element=\"ec8ebe76-97f0-4690-8afe-e33650c0a53e\")>]"
      ]
     },
     "execution_count": 38,
     "metadata": {},
     "output_type": "execute_result"
    }
   ],
   "source": [
    "corridas = driver.find_elements_by_xpath('//div[@class=\"trip-card\"]')\n",
    "corridas"
   ]
  },
  {
   "cell_type": "code",
   "execution_count": 39,
   "metadata": {},
   "outputs": [],
   "source": [
    "corrida = corridas[0]"
   ]
  },
  {
   "cell_type": "code",
   "execution_count": 40,
   "metadata": {},
   "outputs": [
    {
     "data": {
      "text/plain": [
       "<selenium.webdriver.remote.webelement.WebElement (session=\"89c5cf85d97f29c0f5d00a7757a1d26e\", element=\"6b8a5131-9516-454b-b222-3250773605b3\")>"
      ]
     },
     "execution_count": 40,
     "metadata": {},
     "output_type": "execute_result"
    }
   ],
   "source": [
    "corrida"
   ]
  },
  {
   "cell_type": "code",
   "execution_count": 41,
   "metadata": {},
   "outputs": [],
   "source": [
    "#Hora de salida\n",
    "salida = (corrida.find_element_by_xpath('.//p[@class=\"trip-card_details_iternary-origin_info_content_time\"]')\n",
    "               .text.replace('h','')) #Aqui podriamos utilizar el metodo get_attribute('datetime')"
   ]
  },
  {
   "cell_type": "code",
   "execution_count": 42,
   "metadata": {},
   "outputs": [],
   "source": [
    "#Hora de llegada\n",
    "llegada = (corrida.find_element_by_xpath('.//p[@class=\"trip-card_details_iternary-destination_time\"]')\n",
    "               .text.replace('h',''))"
   ]
  },
  {
   "cell_type": "code",
   "execution_count": 43,
   "metadata": {},
   "outputs": [
    {
     "data": {
      "text/plain": [
       "'02:40 h Duración'"
      ]
     },
     "execution_count": 43,
     "metadata": {},
     "output_type": "execute_result"
    }
   ],
   "source": [
    "#Duracion del viaje\n",
    "duracion = (corrida.find_elements_by_xpath('.//li[@class=\"trip-card_details_quickinfo_list_item\"]'))\n",
    "duracion[-1].text"
   ]
  },
  {
   "cell_type": "code",
   "execution_count": 44,
   "metadata": {},
   "outputs": [],
   "source": [
    "boton_mostrar_detalles = corrida.find_element_by_xpath('.//div[@class=\"trip-card_more-details_actions display__flex\"]/button')"
   ]
  },
  {
   "cell_type": "code",
   "execution_count": 45,
   "metadata": {},
   "outputs": [],
   "source": [
    "boton_mostrar_detalles.click()"
   ]
  },
  {
   "cell_type": "code",
   "execution_count": 46,
   "metadata": {},
   "outputs": [],
   "source": [
    "amenidades = corrida.find_elements_by_xpath('//ul[@class=\"trip-card_more-details_amenities_icons_list no-list display__flex\"]/li[@class=\"trip-card_more-details_amenities_icons_list_item\"]')"
   ]
  },
  {
   "cell_type": "code",
   "execution_count": 47,
   "metadata": {},
   "outputs": [
    {
     "data": {
      "text/plain": [
       "<selenium.webdriver.remote.webelement.WebElement (session=\"89c5cf85d97f29c0f5d00a7757a1d26e\", element=\"3254845e-e818-4d23-aedb-5e0278c2c973\")>"
      ]
     },
     "execution_count": 47,
     "metadata": {},
     "output_type": "execute_result"
    }
   ],
   "source": [
    "amenidades[0].find_element_by_xpath('.//img[@src=\"/file/general/ac.png\"]')"
   ]
  },
  {
   "cell_type": "code",
   "execution_count": 48,
   "metadata": {},
   "outputs": [],
   "source": [
    "driver.find_element_by_xpath('//div[@class=\"trip-card_more-details_actions display__flex\"]/button[@class=\"trip-card_more-details_actions_toggle-btn\"]').click()"
   ]
  },
  {
   "cell_type": "code",
   "execution_count": null,
   "metadata": {},
   "outputs": [],
   "source": []
  },
  {
   "cell_type": "code",
   "execution_count": null,
   "metadata": {},
   "outputs": [],
   "source": []
  },
  {
   "cell_type": "markdown",
   "metadata": {},
   "source": [
    "Paso 4: Cerrar el navegador"
   ]
  },
  {
   "cell_type": "code",
   "execution_count": null,
   "metadata": {},
   "outputs": [],
   "source": [
    "driver.close()"
   ]
  }
 ],
 "metadata": {
  "kernelspec": {
   "display_name": "Python 3",
   "language": "python",
   "name": "python3"
  },
  "language_info": {
   "codemirror_mode": {
    "name": "ipython",
    "version": 3
   },
   "file_extension": ".py",
   "mimetype": "text/x-python",
   "name": "python",
   "nbconvert_exporter": "python",
   "pygments_lexer": "ipython3",
   "version": "3.7.6"
  }
 },
 "nbformat": 4,
 "nbformat_minor": 4
}
