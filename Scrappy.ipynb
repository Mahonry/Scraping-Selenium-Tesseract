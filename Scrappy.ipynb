{
 "cells": [
  {
   "cell_type": "code",
   "execution_count": 2,
   "metadata": {},
   "outputs": [],
   "source": [
    "import scrapy"
   ]
  },
  {
   "cell_type": "code",
   "execution_count": 3,
   "metadata": {},
   "outputs": [],
   "source": [
    "class spider12(scrapy.Spider): #Spider es el scrapper generico de scrapy\n",
    "    name = 'spider12'\n",
    "    allowed_domains = ['pagina12.com.ar']\n",
    "    \n",
    "    custom_settings = {'FEED_FORMAT':'json',\n",
    "                      'FEED_URI':'resultados.json',\n",
    "                      'DEPTH_LIMIT':2}\n",
    "    \n",
    "    start_url = ['https://www.pagina12.com.ar/secciones/el-pais',\n",
    "                 'https://www.pagina12.com.ar/secciones/economia',\n",
    "                 'https://www.pagina12.com.ar/secciones/sociedad',\n",
    "                 'https://www.pagina12.com.ar/suplementos/cultura-y-espectaculos',\n",
    "                 'https://www.pagina12.com.ar/secciones/el-mundo',\n",
    "                 'https://www.pagina12.com.ar/secciones/deportes',\n",
    "                 'https://www.pagina12.com.ar/secciones/contratapa',\n",
    "                 'https://www.pagina12.com.ar/secciones/audiovisuales']\n",
    "    \n",
    "    def parse(self, response):\n",
    "        # Articulo Promocionado\n",
    "        nota_promocionada = response.xpath('//div[@class=\"featured-article__container\"]/a/@href').get()\n",
    "        \n",
    "        if nota_promocionada is not None:\n",
    "            yield response.follow(nota_promocionada, callback = self.parse_nota) \n",
    "        \n",
    "        #Listado de notas\n",
    "        notas = response.xpath('//ul[@class=\"article-list\"]//li//h2//a/@href').get_all()\n",
    "        for nota in notas:\n",
    "            yield response.follow(nota, callback = self.parse_nota)\n",
    "        \n",
    "        #Link a la siguiente pagina\n",
    "        next_page = response.xpath('//a[@class=\"pagination-btn-next\"]/@href').get()\n",
    "        if next_page is not None:\n",
    "            yield response.follow(next_page, callback = self.parse)\n",
    "            \n",
    "    def parse_nota(self, response):\n",
    "        #Extraccion del titulo de la nota\n",
    "        titulo = response.xpath('//div[@class=\"article-titles\"]/text()').get()\n",
    "        \n",
    "        #Extraccion de la fecha de la nota\n",
    "        fecha = response.xpath('//span[@pubdate=\"pubdate\"]/@datetime').get()\n",
    "        \n",
    "        #Extraccion de la volanta de la nota\n",
    "        volanta = response.xpath('//h2[@class=\"article-prefix\"]/text()').get()\n",
    "        \n",
    "        #Extraccion del cuerpo de la nota\n",
    "        cuerpo = ''.join(response.xpath('//div[@class=\"article-text\"]/b/text()')).getall()\n",
    "        \n",
    "        #Extraccion del autor de la nota \n",
    "        autor = response.xpath('//div[@class=\"article-author\"]/a/text()').get()\n",
    "        \n",
    "        yield {'url':response.url,\n",
    "              'titulo':titulo,\n",
    "              'fecha':fecha,\n",
    "              'volanta':volanta,\n",
    "              'cuerpo':cuerpo,\n",
    "              'autor':autor}"
   ]
  },
  {
   "cell_type": "code",
   "execution_count": 4,
   "metadata": {},
   "outputs": [],
   "source": [
    "from scrapy.crawler import CrawlerProcess"
   ]
  },
  {
   "cell_type": "code",
   "execution_count": 5,
   "metadata": {},
   "outputs": [
    {
     "name": "stderr",
     "output_type": "stream",
     "text": [
      "2020-04-11 18:35:21 [scrapy.utils.log] INFO: Scrapy 2.0.1 started (bot: scrapybot)\n",
      "2020-04-11 18:35:21 [scrapy.utils.log] INFO: Versions: lxml 4.5.0.0, libxml2 2.9.9, cssselect 1.1.0, parsel 1.5.2, w3lib 1.21.0, Twisted 20.3.0, Python 3.7.6 (default, Jan  8 2020, 20:23:39) [MSC v.1916 64 bit (AMD64)], pyOpenSSL 19.1.0 (OpenSSL 1.1.1d  10 Sep 2019), cryptography 2.8, Platform Windows-10-10.0.18362-SP0\n",
      "2020-04-11 18:35:21 [scrapy.utils.log] DEBUG: Using reactor: twisted.internet.selectreactor.SelectReactor\n",
      "2020-04-11 18:35:21 [scrapy.crawler] INFO: Overridden settings:\n",
      "{'DEPTH_LIMIT': 2, 'FEED_FORMAT': 'json', 'FEED_URI': 'resultados.json'}\n",
      "2020-04-11 18:35:21 [scrapy.extensions.telnet] INFO: Telnet Password: c720132dd277a295\n",
      "2020-04-11 18:35:21 [scrapy.middleware] INFO: Enabled extensions:\n",
      "['scrapy.extensions.corestats.CoreStats',\n",
      " 'scrapy.extensions.telnet.TelnetConsole',\n",
      " 'scrapy.extensions.feedexport.FeedExporter',\n",
      " 'scrapy.extensions.logstats.LogStats']\n",
      "2020-04-11 18:35:21 [scrapy.middleware] INFO: Enabled downloader middlewares:\n",
      "['scrapy.downloadermiddlewares.httpauth.HttpAuthMiddleware',\n",
      " 'scrapy.downloadermiddlewares.downloadtimeout.DownloadTimeoutMiddleware',\n",
      " 'scrapy.downloadermiddlewares.defaultheaders.DefaultHeadersMiddleware',\n",
      " 'scrapy.downloadermiddlewares.useragent.UserAgentMiddleware',\n",
      " 'scrapy.downloadermiddlewares.retry.RetryMiddleware',\n",
      " 'scrapy.downloadermiddlewares.redirect.MetaRefreshMiddleware',\n",
      " 'scrapy.downloadermiddlewares.httpcompression.HttpCompressionMiddleware',\n",
      " 'scrapy.downloadermiddlewares.redirect.RedirectMiddleware',\n",
      " 'scrapy.downloadermiddlewares.cookies.CookiesMiddleware',\n",
      " 'scrapy.downloadermiddlewares.httpproxy.HttpProxyMiddleware',\n",
      " 'scrapy.downloadermiddlewares.stats.DownloaderStats']\n",
      "2020-04-11 18:35:21 [scrapy.middleware] INFO: Enabled spider middlewares:\n",
      "['scrapy.spidermiddlewares.httperror.HttpErrorMiddleware',\n",
      " 'scrapy.spidermiddlewares.offsite.OffsiteMiddleware',\n",
      " 'scrapy.spidermiddlewares.referer.RefererMiddleware',\n",
      " 'scrapy.spidermiddlewares.urllength.UrlLengthMiddleware',\n",
      " 'scrapy.spidermiddlewares.depth.DepthMiddleware']\n",
      "2020-04-11 18:35:21 [scrapy.middleware] INFO: Enabled item pipelines:\n",
      "[]\n",
      "2020-04-11 18:35:21 [scrapy.core.engine] INFO: Spider opened\n",
      "2020-04-11 18:35:21 [scrapy.extensions.logstats] INFO: Crawled 0 pages (at 0 pages/min), scraped 0 items (at 0 items/min)\n",
      "2020-04-11 18:35:21 [scrapy.extensions.telnet] INFO: Telnet console listening on 127.0.0.1:6023\n",
      "2020-04-11 18:35:21 [scrapy.core.engine] ERROR: Error while obtaining start requests\n",
      "Traceback (most recent call last):\n",
      "  File \"C:\\Users\\Lenovo\\anaconda3\\lib\\site-packages\\scrapy\\core\\engine.py\", line 127, in _next_request\n",
      "    request = next(slot.start_requests)\n",
      "  File \"C:\\Users\\Lenovo\\anaconda3\\lib\\site-packages\\scrapy\\spiders\\__init__.py\", line 62, in start_requests\n",
      "    \"Crawling could not start: 'start_urls' not found \"\n",
      "AttributeError: Crawling could not start: 'start_urls' not found or empty (but found 'start_url' attribute instead, did you miss an 's'?)\n",
      "2020-04-11 18:35:21 [scrapy.core.engine] INFO: Closing spider (finished)\n",
      "2020-04-11 18:35:21 [scrapy.statscollectors] INFO: Dumping Scrapy stats:\n",
      "{'elapsed_time_seconds': 0.014961,\n",
      " 'finish_reason': 'finished',\n",
      " 'finish_time': datetime.datetime(2020, 4, 11, 23, 35, 21, 935428),\n",
      " 'log_count/ERROR': 1,\n",
      " 'log_count/INFO': 10,\n",
      " 'start_time': datetime.datetime(2020, 4, 11, 23, 35, 21, 920467)}\n",
      "2020-04-11 18:35:21 [scrapy.core.engine] INFO: Spider closed (finished)\n"
     ]
    }
   ],
   "source": [
    "process = CrawlerProcess()\n",
    "process.crawl(spider12)\n",
    "process.start()"
   ]
  },
  {
   "cell_type": "code",
   "execution_count": null,
   "metadata": {},
   "outputs": [],
   "source": []
  }
 ],
 "metadata": {
  "kernelspec": {
   "display_name": "Python 3",
   "language": "python",
   "name": "python3"
  },
  "language_info": {
   "codemirror_mode": {
    "name": "ipython",
    "version": 3
   },
   "file_extension": ".py",
   "mimetype": "text/x-python",
   "name": "python",
   "nbconvert_exporter": "python",
   "pygments_lexer": "ipython3",
   "version": "3.7.6"
  }
 },
 "nbformat": 4,
 "nbformat_minor": 4
}
